{
 "cells": [
  {
   "cell_type": "code",
   "execution_count": null,
   "metadata": {
    "vscode": {
     "languageId": "plaintext"
    }
   },
   "outputs": [],
   "source": [
    "\"\"\"\n",
    "Faça um programa que peça ao usuário para digitar um número inteiro,\n",
    "informe se este número é par ou ímpar. Caso o usuário não digite um número\n",
    "inteiro, informe que não é um número inteiro.\n",
    "\"\"\"\n",
    "\"\"\"\n",
    "Faça um programa que pergunte a hora ao usuário e, baseando-se no horário \n",
    "descrito, exiba a saudação apropriada. Ex. \n",
    "Bom dia 0-11, Boa tarde 12-17 e Boa noite 18-23.\n",
    "\"\"\"\n",
    "\"\"\"\n",
    "Faça um programa que peça o primeiro nome do usuário. Se o nome tiver 4 letras ou \n",
    "menos escreva \"Seu nome é curto\"; se tiver entre 5 e 6 letras, escreva \n",
    "\"Seu nome é normal\"; maior que 6 escreva \"Seu nome é muito grande\". \n",
    "\"\"\""
   ]
  }
 ],
 "metadata": {
  "language_info": {
   "name": "python"
  }
 },
 "nbformat": 4,
 "nbformat_minor": 2
}
