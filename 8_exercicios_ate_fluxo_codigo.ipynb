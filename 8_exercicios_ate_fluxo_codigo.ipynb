{
 "cells": [
  {
   "cell_type": "code",
   "execution_count": 16,
   "metadata": {},
   "outputs": [
    {
     "data": {
      "text/plain": [
       "'\\nExercício 3\\nFaça um programa que peça o primeiro nome do usuário. Se o nome tiver 4 letras ou \\nmenos escreva \"Seu nome é curto\"; se tiver entre 5 e 6 letras, escreva \\n\"Seu nome é normal\"; maior que 6 escreva \"Seu nome é muito grande\". \\n'"
      ]
     },
     "execution_count": 16,
     "metadata": {},
     "output_type": "execute_result"
    }
   ],
   "source": [
    "\"\"\"\n",
    "Exercício 1\n",
    "Faça um programa que peça ao usuário para digitar um número inteiro,\n",
    "informe se este número é par ou ímpar. Caso o usuário não digite um número\n",
    "inteiro, informe que não é um número inteiro.\n",
    "\"\"\"\n",
    "\"\"\"\n",
    "Exercício 2\n",
    "Faça um programa que pergunte a hora ao usuário e, baseando-se no horário \n",
    "descrito, exiba a saudação apropriada. Ex. \n",
    "Bom dia 0-11, Boa tarde 12-17 e Boa noite 18-23.\n",
    "\"\"\"\n",
    "\"\"\"\n",
    "Exercício 3\n",
    "Faça um programa que peça o primeiro nome do usuário. Se o nome tiver 4 letras ou \n",
    "menos escreva \"Seu nome é curto\"; se tiver entre 5 e 6 letras, escreva \n",
    "\"Seu nome é normal\"; maior que 6 escreva \"Seu nome é muito grande\". \n",
    "\"\"\""
   ]
  },
  {
   "cell_type": "code",
   "execution_count": 5,
   "metadata": {},
   "outputs": [
    {
     "name": "stdout",
     "output_type": "stream",
     "text": [
      "O número 139 é ímpar\n"
     ]
    }
   ],
   "source": [
    "# Exercício 1\n",
    "\n",
    "numero = input('Digite um número inteiro e vou classificá-lo com par ou ímpar: ')\n",
    "try:\n",
    "    num_conversao = int(numero)\n",
    "    if num_conversao % 2 == 0:\n",
    "        print(f'O número {num_conversao} é par')\n",
    "    else:\n",
    "        print(f'O número {num_conversao} é ímpar')\n",
    "except:\n",
    "    print('O número que digitou não é um inteiro')"
   ]
  },
  {
   "cell_type": "code",
   "execution_count": null,
   "metadata": {},
   "outputs": [
    {
     "name": "stdout",
     "output_type": "stream",
     "text": [
      "Você digitou um valor inválido. Aceitamos somente números inteiros de 0 a 23\n"
     ]
    }
   ],
   "source": [
    "# Exercício 2\n",
    "\n",
    "hora = input('Digite a hora atual (Só as horas, sem minutos e segundos): ')\n",
    "try:\n",
    "    hora_conv = int(hora)\n",
    "    if 0 <= hora_conv <= 11:\n",
    "        print('Bom dia meu patrão!')\n",
    "    elif 12 <= hora_conv <= 17:\n",
    "        print('Boa tarde meu cheiro!')\n",
    "    elif 18 <= hora_conv <= 23:\n",
    "        print('Boa noite major!')\n",
    "    else:\n",
    "        print('Você digitou uma hora bizarra. Só aceitamos valores de 0 a 23 nesse programa')\n",
    "except:\n",
    "    print('Você digitou um valor inválido. Aceitamos somente números inteiros de 0 a 23')"
   ]
  },
  {
   "cell_type": "code",
   "execution_count": null,
   "metadata": {},
   "outputs": [
    {
     "name": "stdout",
     "output_type": "stream",
     "text": [
      "Seu nome é curto!\n"
     ]
    }
   ],
   "source": [
    "# Exercício 3\n",
    "\n",
    "nome = input('Digite o seu primeiro nome: ')\n",
    "\n",
    "# No IF externo garantimos que só pegamos o primeiro nome\n",
    "if(' 'in nome):\n",
    "    print('Você leu a solicitação? É só o primeiro nome animal!')\n",
    "else:\n",
    "    if len(nome) <= 4:\n",
    "        print('Seu nome é curto!')\n",
    "    elif 5 <= len(nome) <= 6:\n",
    "        print('Seu nome é normal!')\n",
    "    else:\n",
    "        print('Seu nome é grande!')"
   ]
  }
 ],
 "metadata": {
  "kernelspec": {
   "display_name": "Python 3 (ipykernel)",
   "language": "python",
   "name": "python3"
  }
 },
 "nbformat": 4,
 "nbformat_minor": 2
}
