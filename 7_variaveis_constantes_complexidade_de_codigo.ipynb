{
 "cells": [
  {
   "cell_type": "markdown",
   "metadata": {},
   "source": [
    "# Boas práticas de programação"
   ]
  },
  {
   "cell_type": "markdown",
   "metadata": {},
   "source": [
    "- Grande parte do que escrevemos de código são para outras pessoas lerem (Trabalhamos em equipe), ou seja, é importante manter o código limpo e eficiente\n",
    "- Dicas:\n",
    "    - Variáveis constantes: São aquelas que não mudam ao longo do programa. (Isso não existe no python, mas temos convenções para garantir que os outros desenvolvedores entendam) Mantê-las declaradas com letra maiúscla (Ex: VELOCIDADE_MAXIMA = 20)\n",
    "    - Quanto mais condições temos no IF, maior a complexidade para compreender o código. (Isso é ruim para leitura)\n",
    "    - Quanto mais blocos de código identados, mais difícil de compreender o que está acontecendo\n",
    "    "
   ]
  },
  {
   "cell_type": "code",
   "execution_count": null,
   "metadata": {},
   "outputs": [],
   "source": [
    "# Queremos verificar se o limite de velocidade foi ultrapassado independente do lugar\n",
    "\n",
    "velocidade = 61\n",
    "local_carro = 90\n",
    "\n",
    "RADAR_1 = 60 # Velocidade máxima no radar 1\n",
    "LOCAL_1 = 100 # Local em que o radar 1 está\n",
    "RADAR_RANGE = 1 # A distância que o radar pega\n",
    "\n",
    "if velocidade > RADAR_1:\n",
    "    print('Passou da velocidade!')"
   ]
  },
  {
   "cell_type": "code",
   "execution_count": 4,
   "metadata": {},
   "outputs": [
    {
     "name": "stdout",
     "output_type": "stream",
     "text": [
      "Não foi multado\n"
     ]
    }
   ],
   "source": [
    "# Precisamos sabr se o carro foi multado\n",
    "\n",
    "velocidade = 61\n",
    "local_carro = 90\n",
    "\n",
    "RADAR_1 = 60 # Velocidade máxima no radar 1\n",
    "LOCAL_1 = 100 # Local em que o radar 1 está\n",
    "RADAR_RANGE = 1 # A distância que o radar pega\n",
    "\n",
    "if (local_carro >= (LOCAL_1 - RADAR_RANGE)) and (local_carro <= (LOCAL_1 + RADAR_RANGE)) and (velocidade > RADAR_1):\n",
    "    print('Carro multado em radar 1')\n",
    "else:\n",
    "    print('Não foi multado')"
   ]
  },
  {
   "cell_type": "code",
   "execution_count": null,
   "metadata": {},
   "outputs": [
    {
     "name": "stdout",
     "output_type": "stream",
     "text": [
      "Carro não foi multado\n"
     ]
    }
   ],
   "source": [
    "# Deixando mais legível o código de cima\n",
    "\n",
    "# Declarando variáveis fixas\n",
    "velocidade = 61\n",
    "local_carro = 102\n",
    "RADAR_1 = 60 # Velocidade máxima no radar 1\n",
    "LOCAL_1 = 100 # Local em que o radar 1 está\n",
    "RADAR_RANGE = 1 # A distância que o radar pega\n",
    "\n",
    "\n",
    "# Variáveis para condição (Evita complexidade no IF)\n",
    "velocidade_carro_acima_limite_radar_1 = velocidade > RADAR_1 # Booleano que retorna se velocidade estava acima do permitido\n",
    "carro_passou_radar = (local_carro >= (LOCAL_1 - RADAR_RANGE)) and (local_carro <= (LOCAL_1 + RADAR_RANGE)) # Booleano que indica se carro já passou pelo radar\n",
    "fl_multado = velocidade_carro_acima_limite_radar_1 and carro_passou_radar # Booleano que indica se carro foi multado\n",
    "\n",
    "\n",
    "# Verificando se foi multado\n",
    "if fl_multado:\n",
    "    print('O carro foi multado')\n",
    "else:\n",
    "    print('Carro não foi multado')\n",
    "\n",
    "# Se observamos o código acima vemos que fica mais simples de compreender o que foi feito, mesmo com mais código escrito!"
   ]
  },
  {
   "cell_type": "code",
   "execution_count": null,
   "metadata": {},
   "outputs": [
    {
     "name": "stdout",
     "output_type": "stream",
     "text": [
      "11791568\n",
      "11791568\n"
     ]
    }
   ],
   "source": [
    "# Como verificar identidade na memória?\n",
    "# Identidade = É a forma como o python busca algo na memória\n",
    "\n",
    "# Quando temos valores iguais, eles são armazenados na mesma caixinha de memória\n",
    "v1 = 'a'\n",
    "v2 = 'a'\n",
    "\n",
    "print(id(v1))\n",
    "print(id(v2))"
   ]
  },
  {
   "cell_type": "code",
   "execution_count": null,
   "metadata": {},
   "outputs": [
    {
     "name": "stdout",
     "output_type": "stream",
     "text": [
      "Não faça algo\n"
     ]
    },
    {
     "ename": "NameError",
     "evalue": "name 'teste' is not defined",
     "output_type": "error",
     "traceback": [
      "\u001b[0;31m---------------------------------------------------------------------------\u001b[0m",
      "\u001b[0;31mNameError\u001b[0m                                 Traceback (most recent call last)",
      "Cell \u001b[0;32mIn[16], line 12\u001b[0m\n\u001b[1;32m      9\u001b[0m \u001b[38;5;28;01melse\u001b[39;00m:\n\u001b[1;32m     10\u001b[0m     \u001b[38;5;28mprint\u001b[39m(\u001b[38;5;124m'\u001b[39m\u001b[38;5;124mNão faça algo\u001b[39m\u001b[38;5;124m'\u001b[39m)\n\u001b[0;32m---> 12\u001b[0m \u001b[38;5;28mprint\u001b[39m(\u001b[43mteste\u001b[49m)\n",
      "\u001b[0;31mNameError\u001b[0m: name 'teste' is not defined"
     ]
    }
   ],
   "source": [
    "# Flag, is, is not e None\n",
    "\n",
    "# AS vezes queremos saber se o nosso código passou em um determinado bloco e para isso usamos as flag's (bandeiras)\n",
    "# O código abaixo é ineficiente, pois cria a flag dentro do trecho de código e pode gerar um erro na frente no caso de não entrar na condição\n",
    "# Para facilitar isso, criamos uma variável por fora (vou mostrar abaixo)\n",
    "\n",
    "condicao = False\n",
    "\n",
    "if condicao:\n",
    "    teste_flag = True\n",
    "    print('Faça algo')\n",
    "else:\n",
    "    print('Não faça algo')\n",
    "\n",
    "print(teste_flag)"
   ]
  },
  {
   "cell_type": "code",
   "execution_count": 18,
   "metadata": {},
   "outputs": [
    {
     "name": "stdout",
     "output_type": "stream",
     "text": [
      "Faça algo\n",
      "True False\n",
      "True True\n"
     ]
    }
   ],
   "source": [
    "condicao = True\n",
    "passou_no_if = None\n",
    "\n",
    "if condicao:\n",
    "    passou_no_if = True\n",
    "    print('Faça algo')\n",
    "else:\n",
    "    print('Não faça algo')\n",
    "\n",
    "print(passou_no_if, passou_no_if is None) # É o mesmo que == None (Usamos o is para o None)\n",
    "print(passou_no_if, passou_no_if is not None) # É o mesmo que != None (Usamos o not is para o None)"
   ]
  }
 ],
 "metadata": {
  "kernelspec": {
   "display_name": "Python 3 (ipykernel)",
   "language": "python",
   "name": "python3"
  },
  "language_info": {
   "codemirror_mode": {
    "name": "ipython",
    "version": 3
   },
   "file_extension": ".py",
   "mimetype": "text/x-python",
   "name": "python",
   "nbconvert_exporter": "python",
   "pygments_lexer": "ipython3",
   "version": "3.12.3"
  }
 },
 "nbformat": 4,
 "nbformat_minor": 2
}
