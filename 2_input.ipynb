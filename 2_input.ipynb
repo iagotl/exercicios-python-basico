{
 "cells": [
  {
   "cell_type": "markdown",
   "metadata": {},
   "source": [
    "- O input nos permite pegar as informações do usuário\n",
    "- O input sempre recebe a variável como uma string\n"
   ]
  },
  {
   "cell_type": "code",
   "execution_count": 1,
   "metadata": {},
   "outputs": [
    {
     "name": "stdout",
     "output_type": "stream",
     "text": [
      "O seu nome é: Iago\n"
     ]
    }
   ],
   "source": [
    "nome = input('Qual o seu nome?')\n",
    "print(f'O seu nome é: {nome}')"
   ]
  },
  {
   "cell_type": "code",
   "execution_count": 2,
   "metadata": {},
   "outputs": [
    {
     "name": "stdout",
     "output_type": "stream",
     "text": [
      "A soma dos dois números é: 6\n"
     ]
    }
   ],
   "source": [
    "numero_1 = input(\"Digite um número: \")\n",
    "numero_2 = input(\"Digite outro número: \")\n",
    "\n",
    "num_1 = int(numero_1)\n",
    "num_2 = int(numero_2)\n",
    "\n",
    "print(f'A soma dos dois números é: {num_1 + num_2}')"
   ]
  }
 ],
 "metadata": {
  "kernelspec": {
   "display_name": "Python 3 (ipykernel)",
   "language": "python",
   "name": "python3"
  },
  "language_info": {
   "codemirror_mode": {
    "name": "ipython",
    "version": 3
   },
   "file_extension": ".py",
   "mimetype": "text/x-python",
   "name": "python",
   "nbconvert_exporter": "python",
   "pygments_lexer": "ipython3",
   "version": "3.12.3"
  }
 },
 "nbformat": 4,
 "nbformat_minor": 2
}
