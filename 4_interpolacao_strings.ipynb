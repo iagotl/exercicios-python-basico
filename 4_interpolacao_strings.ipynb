{
 "cells": [
  {
   "cell_type": "markdown",
   "metadata": {},
   "source": [
    "### Interpolação de strings (Básico)\n",
    "\n",
    "- É mais uma opção de f-strings e format\n",
    "- É parecido com o format\n",
    "- Hexadecimal = São números formados de letras de A a F e de 0 a 9\n",
    "\n",
    "\n",
    "- %s (string); %f (float); %d e %i (int); %x e %X (Hexadecimal)"
   ]
  },
  {
   "cell_type": "code",
   "execution_count": 2,
   "metadata": {},
   "outputs": [
    {
     "name": "stdout",
     "output_type": "stream",
     "text": [
      "Luiz, o preço é de R$100.96\n"
     ]
    }
   ],
   "source": [
    "nome = 'Luiz'\n",
    "preco = 100.95897643\n",
    "variavel = '%s, o preço é de R$%.2f' % (nome, preco)\n",
    "print(variavel)"
   ]
  },
  {
   "cell_type": "code",
   "execution_count": 13,
   "metadata": {},
   "outputs": [
    {
     "name": "stdout",
     "output_type": "stream",
     "text": [
      "O Hexadecimal de 1500 é de 5DC\n"
     ]
    }
   ],
   "source": [
    "print('O Hexadecimal de %d é de %X' % (1500, 1500))"
   ]
  },
  {
   "cell_type": "code",
   "execution_count": 14,
   "metadata": {},
   "outputs": [
    {
     "name": "stdout",
     "output_type": "stream",
     "text": [
      "O Hexadecimal de 1500 é de 5dc\n"
     ]
    }
   ],
   "source": [
    "print('O Hexadecimal de %d é de %x' % (1500, 1500))"
   ]
  }
 ],
 "metadata": {
  "kernelspec": {
   "display_name": "Python 3 (ipykernel)",
   "language": "python",
   "name": "python3"
  },
  "language_info": {
   "codemirror_mode": {
    "name": "ipython",
    "version": 3
   },
   "file_extension": ".py",
   "mimetype": "text/x-python",
   "name": "python",
   "nbconvert_exporter": "python",
   "pygments_lexer": "ipython3",
   "version": "3.12.3"
  }
 },
 "nbformat": 4,
 "nbformat_minor": 2
}
