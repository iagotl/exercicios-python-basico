{
 "cells": [
  {
   "cell_type": "markdown",
   "metadata": {},
   "source": [
    "### while\n",
    "\n",
    "- Significa \"Enquanto\"\n",
    "- É uma estrutura de repetição, ou seja, executa uma determinada ação enquanto uma condição for verdadeira\n",
    "- Não queremos ficar reptindo código sem necessidade\n",
    "- Loop infinito: O código não tem fim, pois a condição é sempre verdadeira\n",
    "- break: procurao laço mais próximo dele e interrompe a execução\n"
   ]
  },
  {
   "cell_type": "code",
   "execution_count": null,
   "metadata": {},
   "outputs": [],
   "source": [
    "# NÃO EXECUTAR! É um exemplo de loop infinito\n",
    "\n",
    "condicao = True\n",
    "\n",
    "while condicao:\n",
    "    print('Oi!')\n"
   ]
  },
  {
   "cell_type": "code",
   "execution_count": 1,
   "metadata": {},
   "outputs": [
    {
     "name": "stdout",
     "output_type": "stream",
     "text": [
      "Seu nome é iago\n",
      "Seu nome é carlos\n",
      "Seu nome é sair\n"
     ]
    }
   ],
   "source": [
    "condicao = True\n",
    "\n",
    "while condicao:\n",
    "    nome = input('Qual o seu nome? ')\n",
    "    print(f'Seu nome é {nome}')\n",
    "\n",
    "    if nome == 'sair':\n",
    "        break\n"
   ]
  },
  {
   "cell_type": "code",
   "execution_count": 5,
   "metadata": {},
   "outputs": [
    {
     "name": "stdout",
     "output_type": "stream",
     "text": [
      "O contador está em: 0\n",
      "O contador está em: 1\n",
      "O contador está em: 2\n",
      "O contador está em: 3\n",
      "O contador está em: 4\n",
      "O contador está em: 5\n",
      "O contador está em: 6\n",
      "O contador está em: 7\n",
      "O contador está em: 8\n",
      "O contador está em: 9\n",
      "O contador está em: 10\n",
      "\n",
      "Acabou!\n"
     ]
    }
   ],
   "source": [
    "# Para o laço acabar, vc precisar deixar a condição do while falsa\n",
    "\n",
    "# Exemplo: Queremos contar até 10\n",
    "\n",
    "contador = 0\n",
    "\n",
    "while contador <= 10:\n",
    "    print(f'O contador está em: {contador}')\n",
    "    contador += 1\n",
    "\n",
    "print()\n",
    "print('Acabou!')"
   ]
  },
  {
   "cell_type": "markdown",
   "metadata": {},
   "source": [
    "#### Operadores de atribuição\n",
    "\n",
    "- Todos os operadores aritméticos podem ser utilizados como operador de atribuição\n",
    "<br>\n",
    "- = (Atribuição)\n",
    "- += (Soma)\n",
    "- -= (Subtrai)\n",
    "- *= (Multiplica)\n",
    "- /= (Divisão)\n",
    "- //= (Divisão inteira)\n",
    "- **= (Potenciação)\n",
    "- %= (Resto da divisão)"
   ]
  },
  {
   "cell_type": "code",
   "execution_count": null,
   "metadata": {},
   "outputs": [
    {
     "name": "stdout",
     "output_type": "stream",
     "text": [
      "1\n",
      "2\n",
      "3\n",
      "4\n",
      "5\n",
      "7\n",
      "8\n",
      "9\n",
      "10\n",
      "11\n"
     ]
    }
   ],
   "source": [
    "# while com CONTINUE\n",
    "# O continue é uma palavra reservada que quando utilizada junto com o while ele pula um laço\n",
    "# Tudo para baixo do continue não será executado!\n",
    "\n",
    "contador = 0\n",
    "\n",
    "while contador <= 10:\n",
    "    contador += 1\n",
    "\n",
    "    if contador == 6:\n",
    "        continue\n",
    "\n",
    "    print(contador)"
   ]
  },
  {
   "cell_type": "code",
   "execution_count": null,
   "metadata": {},
   "outputs": [],
   "source": [
    "# while dentro de while\n",
    "\n",
    "qtd_linhas =\n",
    "qtd_colunas = "
   ]
  },
  {
   "cell_type": "code",
   "execution_count": 13,
   "metadata": {},
   "outputs": [
    {
     "name": "stdout",
     "output_type": "stream",
     "text": [
      "Número: 0\n",
      "Número: 2\n",
      "Número: 4\n",
      "Número: 6\n",
      "Número: 8\n",
      "Número: 10\n",
      "Número: 12\n",
      "Número: 14\n",
      "Número: 16\n",
      "Número: 18\n",
      "Número: 20\n",
      "Número: 22\n",
      "Número: 24\n",
      "Número: 26\n",
      "Número: 28\n",
      "Número: 30\n",
      "Número: 32\n",
      "Número: 34\n",
      "Número: 36\n",
      "Número: 38\n",
      "Número: 40\n"
     ]
    }
   ],
   "source": [
    "# Exercício: Printar somente os números pares no intervalo de 0 a 40\n",
    "\n",
    "contador = 0\n",
    "\n",
    "while contador <= 40:\n",
    "\n",
    "    if contador % 2 == 0:\n",
    "        print(f'Número: {contador}')\n",
    "\n",
    "    contador += 1"
   ]
  },
  {
   "cell_type": "code",
   "execution_count": null,
   "metadata": {},
   "outputs": [],
   "source": []
  },
  {
   "cell_type": "code",
   "execution_count": null,
   "metadata": {},
   "outputs": [],
   "source": []
  }
 ],
 "metadata": {
  "kernelspec": {
   "display_name": "Python 3 (ipykernel)",
   "language": "python",
   "name": "python3"
  },
  "language_info": {
   "codemirror_mode": {
    "name": "ipython",
    "version": 3
   },
   "file_extension": ".py",
   "mimetype": "text/x-python",
   "name": "python",
   "nbconvert_exporter": "python",
   "pygments_lexer": "ipython3",
   "version": "3.12.3"
  }
 },
 "nbformat": 4,
 "nbformat_minor": 2
}
