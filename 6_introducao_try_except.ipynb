{
 "cells": [
  {
   "cell_type": "markdown",
   "metadata": {},
   "source": [
    "### Introdução ao try/except\n",
    "\n",
    "- try => tenta executar um código\n",
    "- except => Ocorreu algum erro na execução\n",
    "- try/except ajuda a evitar erros (pula ele para não estourar erro): Tenta executar o try, se não der certo, pule direto para o except\n",
    "- O except nos permite capturar o erro, mas só veremos isso mais para frente"
   ]
  },
  {
   "cell_type": "code",
   "execution_count": null,
   "metadata": {},
   "outputs": [
    {
     "name": "stdout",
     "output_type": "stream",
     "text": [
      "1234\n",
      "456\n"
     ]
    },
    {
     "ename": "ValueError",
     "evalue": "invalid literal for int() with base 10: 'a'",
     "output_type": "error",
     "traceback": [
      "\u001b[0;31m---------------------------------------------------------------------------\u001b[0m",
      "\u001b[0;31mValueError\u001b[0m                                Traceback (most recent call last)",
      "Cell \u001b[0;32mIn[1], line 5\u001b[0m\n\u001b[1;32m      3\u001b[0m \u001b[38;5;28mprint\u001b[39m(\u001b[38;5;241m1234\u001b[39m)\n\u001b[1;32m      4\u001b[0m \u001b[38;5;28mprint\u001b[39m(\u001b[38;5;241m456\u001b[39m)\n\u001b[0;32m----> 5\u001b[0m \u001b[38;5;28;43mint\u001b[39;49m\u001b[43m(\u001b[49m\u001b[38;5;124;43m'\u001b[39;49m\u001b[38;5;124;43ma\u001b[39;49m\u001b[38;5;124;43m'\u001b[39;49m\u001b[43m)\u001b[49m\n",
      "\u001b[0;31mValueError\u001b[0m: invalid literal for int() with base 10: 'a'"
     ]
    }
   ],
   "source": [
    "# O que é uma exceção? Estou vendo um erro na tela e o programa parou\n",
    "# O int('a') é o que gera a exceção\n",
    "# O nome da exceção: ValueError\n",
    "\n",
    "print(1234)\n",
    "print(456)\n",
    "int('a')"
   ]
  },
  {
   "cell_type": "code",
   "execution_count": 8,
   "metadata": {},
   "outputs": [
    {
     "name": "stdout",
     "output_type": "stream",
     "text": [
      "Isso não é um número\n"
     ]
    }
   ],
   "source": [
    "# Vamos supor que pedimos um número e queremos ver o dobro dele\n",
    "\n",
    "numero_str = input('Vou dobrar o número que vc digitar: ')\n",
    "try:\n",
    "    numero_float = float(numero_str)\n",
    "    print(f'O dobro de {numero_str} é {2 * numero_float:.2f}')\n",
    "except:\n",
    "    print(\"Isso não é um número\")"
   ]
  },
  {
   "cell_type": "code",
   "execution_count": null,
   "metadata": {},
   "outputs": [],
   "source": []
  }
 ],
 "metadata": {
  "kernelspec": {
   "display_name": "Python 3 (ipykernel)",
   "language": "python",
   "name": "python3"
  }
 },
 "nbformat": 4,
 "nbformat_minor": 2
}
