{
 "cells": [
  {
   "cell_type": "markdown",
   "metadata": {},
   "source": [
    "# Lista 1 - variáveis, input, output"
   ]
  },
  {
   "cell_type": "markdown",
   "metadata": {},
   "source": [
    " 1.Faça um programa que mostre a mensagem \"Olá, mundo!\" na tela."
   ]
  },
  {
   "cell_type": "code",
   "execution_count": 3,
   "metadata": {},
   "outputs": [
    {
     "name": "stdout",
     "output_type": "stream",
     "text": [
      "Olá, mundo!\n"
     ]
    }
   ],
   "source": [
    "print('Olá, mundo!')"
   ]
  },
  {
   "cell_type": "markdown",
   "metadata": {},
   "source": [
    "---"
   ]
  },
  {
   "cell_type": "markdown",
   "metadata": {},
   "source": [
    "2. Faça um programa que peça um número e mostre a mensagem \"O número informado foi [número]\".\n"
   ]
  },
  {
   "cell_type": "code",
   "execution_count": 2,
   "metadata": {},
   "outputs": [
    {
     "name": "stdout",
     "output_type": "stream",
     "text": [
      "Digite um número e exibiremos ele na tela: 5\n",
      "5.0\n"
     ]
    }
   ],
   "source": [
    "x = float(input('Digite um número e exibiremos ele na tela: '))\n",
    "\n",
    "print(x)"
   ]
  },
  {
   "cell_type": "markdown",
   "metadata": {},
   "source": [
    "---"
   ]
  },
  {
   "cell_type": "markdown",
   "metadata": {},
   "source": [
    "\n",
    "3. Faça um programa que peça um número para o usuário (string), converta-o para float e depois imprima-o na tela. Você consegue fazer a mesma coisa, porém convertendo para int?\n",
    "\n"
   ]
  },
  {
   "cell_type": "code",
   "execution_count": 3,
   "metadata": {},
   "outputs": [
    {
     "name": "stdout",
     "output_type": "stream",
     "text": [
      "Digite um número: 4\n",
      "O número digitado foi: 4.0\n",
      "Digite um número: 5\n",
      "O número digitado foi 5\n"
     ]
    }
   ],
   "source": [
    "y = input('Digite um número: ')\n",
    "y = float(y)\n",
    "\n",
    "print(f'O número digitado foi: {y}')\n",
    "\n",
    "z = input('Digite um número: ')\n",
    "z = int(z)\n",
    "\n",
    "print(f'O número digitado foi {z}')"
   ]
  },
  {
   "cell_type": "markdown",
   "metadata": {},
   "source": [
    "---"
   ]
  },
  {
   "cell_type": "markdown",
   "metadata": {},
   "source": [
    "4. Faça um programa que peça dois números e imprima a soma deles.\n",
    "\n"
   ]
  },
  {
   "cell_type": "code",
   "execution_count": 4,
   "metadata": {},
   "outputs": [
    {
     "name": "stdout",
     "output_type": "stream",
     "text": [
      "Digite um número: 5\n",
      "Digite outro número: 4\n",
      "A soma dos números digitados é 9.0\n"
     ]
    }
   ],
   "source": [
    "num1 = float(input('Digite um número: '))\n",
    "num2 = float(input('Digite outro número: '))\n",
    "\n",
    "print(f'A soma dos números digitados é {num1 + num2}')"
   ]
  },
  {
   "cell_type": "markdown",
   "metadata": {},
   "source": [
    "---"
   ]
  },
  {
   "cell_type": "markdown",
   "metadata": {},
   "source": [
    "5. Faça um programa que peça as 4 notas bimestrais de um aluno e mostre a média aritmética delas.\n"
   ]
  },
  {
   "cell_type": "code",
   "execution_count": 12,
   "metadata": {},
   "outputs": [
    {
     "name": "stdout",
     "output_type": "stream",
     "text": [
      "Digite uma nota por vez e será calculado a soma: 9.5\n",
      "Digite uma nota por vez e será calculado a soma: -4\n",
      "Não aceitamos notas menores que zero.\n",
      "Digite uma nota por vez e será calculado a soma: 0\n",
      "Digite uma nota por vez e será calculado a soma: 9.5\n",
      "Digite uma nota por vez e será calculado a soma: 0\n",
      "A média das notas foi 4.75\n"
     ]
    }
   ],
   "source": [
    "lista_notas = []\n",
    "flag = True\n",
    "i = 1\n",
    "while flag:\n",
    "    \n",
    "    if(i == 4):\n",
    "        flag = False\n",
    "        \n",
    "    x = float(input('Digite uma nota por vez e será calculado a soma: '))\n",
    "    lista_notas.append(x)\n",
    "    \n",
    "    if (x < 0):\n",
    "        print('Não aceitamos notas menores que zero.')\n",
    "        lista_notas.pop()\n",
    "        continue\n",
    "    else:\n",
    "        i += 1\n",
    "        \n",
    "media = sum(lista_notas) / len(lista_notas)\n",
    "print(f'A média das notas foi {media:.2f}')"
   ]
  },
  {
   "cell_type": "markdown",
   "metadata": {},
   "source": [
    "---"
   ]
  },
  {
   "cell_type": "markdown",
   "metadata": {},
   "source": [
    "\n",
    "6. Faça um programa que converta um valor em metros para centímetros.\n",
    "\n"
   ]
  },
  {
   "cell_type": "code",
   "execution_count": 15,
   "metadata": {},
   "outputs": [
    {
     "name": "stdout",
     "output_type": "stream",
     "text": [
      "Digite o valor em metros que deseja converter em centímetros: 1\n",
      "O valor em centímetros é 100.0cm\n"
     ]
    }
   ],
   "source": [
    "valor = float(input('Digite o valor em metros que deseja converter em centímetros: '))\n",
    "\n",
    "valor_centimetros = valor * 100\n",
    "\n",
    "print(f'O valor em centímetros é {valor_centimetros}cm')"
   ]
  },
  {
   "cell_type": "markdown",
   "metadata": {},
   "source": [
    "---"
   ]
  },
  {
   "cell_type": "markdown",
   "metadata": {},
   "source": [
    "7. Faça um programa que peça o raio de um círculo, calcule e mostre sua área. Obs: Fórmula da área de um círculo: A = 3,14*r2, onde r é o raio.\n"
   ]
  },
  {
   "cell_type": "code",
   "execution_count": 17,
   "metadata": {},
   "outputs": [
    {
     "name": "stdout",
     "output_type": "stream",
     "text": [
      "Digite o raio do círculo que está trabalhando: 2\n",
      "A área do círculo é 12.56\n"
     ]
    }
   ],
   "source": [
    "raio = float(input('Digite o raio do círculo que está trabalhando: '))\n",
    "\n",
    "area_circulo = 3.14 * (raio ** 2)\n",
    "\n",
    "print(f'A área do círculo é {area_circulo}')"
   ]
  },
  {
   "cell_type": "markdown",
   "metadata": {},
   "source": [
    "---"
   ]
  },
  {
   "cell_type": "markdown",
   "metadata": {},
   "source": [
    "\n",
    "8. Faça um programa que pergunte quanto você ganha por hora e o número de horas trabalhadas no mês e depois, calcule e mostre o total do seu salário no referido mês.\n",
    "\n"
   ]
  },
  {
   "cell_type": "code",
   "execution_count": 20,
   "metadata": {},
   "outputs": [
    {
     "name": "stdout",
     "output_type": "stream",
     "text": [
      "Digite o número de horas trabalhadas esses mês:\n",
      " 15\n",
      "Digite o valor que recebe por hora:\n",
      " 1\n",
      "O seu salário para 15.0hrs trabalhadas e recebendo R$1.0/hr foi de R$15.0\n"
     ]
    }
   ],
   "source": [
    "horas_trabalhadas = float(input('Digite o número de horas trabalhadas esses mês:\\n '))\n",
    "valor_hora = float(input('Digite o valor que recebe por hora:\\n '))\n",
    "\n",
    "salario = horas_trabalhadas * valor_hora\n",
    "\n",
    "print(f'O seu salário para {horas_trabalhadas}hrs trabalhadas e recebendo R${valor_hora}/hr foi de R${salario}')"
   ]
  },
  {
   "cell_type": "markdown",
   "metadata": {},
   "source": [
    "---"
   ]
  },
  {
   "cell_type": "markdown",
   "metadata": {},
   "source": [
    "9. Faça um programa que peça a temperatura em graus Fahrenheit (F), transforme e mostre a temperatura em graus Celsius (°C). °C = (5 * (F-32) / 9) Obs: Tente também fazer um programa que faça o inverso: peça a temperatura em graus Celsius e a transforme em graus Fahrenheit.\n"
   ]
  },
  {
   "cell_type": "code",
   "execution_count": 21,
   "metadata": {},
   "outputs": [
    {
     "name": "stdout",
     "output_type": "stream",
     "text": [
      "Digite a temperatura em fahrenheit e devolveremos o valor em celsius: \n",
      "32\n",
      "A temperatura fornecida foi 32.0F, essa em celsius é 0.0C\n"
     ]
    }
   ],
   "source": [
    "temp_fah = float(input('Digite a temperatura em fahrenheit e devolveremos o valor em celsius: \\n'))\n",
    "temp_cel = (5 * (temp_fah - 32)) / 9\n",
    "\n",
    "print(f'A temperatura fornecida foi {temp_fah}F, essa em celsius é {temp_cel}C')"
   ]
  },
  {
   "cell_type": "markdown",
   "metadata": {},
   "source": [
    "---"
   ]
  },
  {
   "cell_type": "markdown",
   "metadata": {},
   "source": [
    "\n",
    "10. Faça um programa que peça o dia, o mês e o ano para o usuário e imprima a data completa no formato dd/mm/aaaa.\n",
    "\n"
   ]
  },
  {
   "cell_type": "code",
   "execution_count": 1,
   "metadata": {},
   "outputs": [
    {
     "name": "stdout",
     "output_type": "stream",
     "text": [
      "Digite o dia em que está: \n",
      "2\n",
      "Digite o mês em que está: \n",
      "10\n",
      "Digite o ano em que está: \n",
      "2021\n",
      "2/10/2021\n"
     ]
    }
   ],
   "source": [
    "dia = int(input('Digite o dia em que está: \\n'))\n",
    "mes = int(input('Digite o mês em que está: \\n'))\n",
    "ano = int(input('Digite o ano em que está: \\n'))\n",
    "\n",
    "print(f'{dia}/{mes}/{ano}')"
   ]
  },
  {
   "cell_type": "markdown",
   "metadata": {},
   "source": [
    "---"
   ]
  },
  {
   "cell_type": "markdown",
   "metadata": {},
   "source": [
    "11. Faça um programa que peça 2 números inteiros e um número real, calcule e mostre:\n",
    "a) o produto do dobro do primeiro com metade do segundo.\n",
    "b) a soma do triplo do primeiro com o terceiro.\n",
    "c) o terceiro elevado ao cubo.\n",
    "\n"
   ]
  },
  {
   "cell_type": "code",
   "execution_count": 1,
   "metadata": {},
   "outputs": [
    {
     "name": "stdout",
     "output_type": "stream",
     "text": [
      "Digite um número inteiro: 2\n",
      "Digite outro número inteiro: 1\n",
      "Digite um número real: -9\n",
      "O primeiro cáculo tem como resultado 2.0, o segundo -3.0 e o terceiro -729.0\n"
     ]
    }
   ],
   "source": [
    "lista_int = []\n",
    "numero1 = int(input('Digite um número inteiro: '))\n",
    "numero2 = int(input('Digite outro número inteiro: '))\n",
    "numero3 = float(input('Digite um número real: '))\n",
    "\n",
    "calculo_a = (2 * numero1) * (0.5 * numero2)\n",
    "calculo_b = (3 * numero1) + numero3\n",
    "calculo_c = numero3 ** 3\n",
    "\n",
    "print(f'O primeiro cáculo tem como resultado {calculo_a}, o segundo {calculo_b} e o terceiro {calculo_c}')\n"
   ]
  },
  {
   "cell_type": "markdown",
   "metadata": {},
   "source": [
    "---"
   ]
  },
  {
   "cell_type": "markdown",
   "metadata": {},
   "source": [
    "12. Faça um programa que peça o peso e altura de uma pessoa e calcule seu IMC (Índice de Massa Corporal).\n",
    "Obs: IMC = Peso/Altura2\n",
    "\n"
   ]
  },
  {
   "cell_type": "code",
   "execution_count": 3,
   "metadata": {},
   "outputs": [
    {
     "name": "stdout",
     "output_type": "stream",
     "text": [
      "Digite o seu peso: 90\n",
      "Digite a sua altura: 1.70\n",
      "Seu IMC é de 31.14kg/m2\n"
     ]
    }
   ],
   "source": [
    "peso = float(input('Digite o seu peso: '))\n",
    "altura = float(input('Digite a sua altura: '))\n",
    "\n",
    "IMC = peso / (altura ** 2)\n",
    "\n",
    "print(f'Seu IMC é de {IMC:.2f}kg/m2')"
   ]
  },
  {
   "cell_type": "markdown",
   "metadata": {},
   "source": [
    "---"
   ]
  },
  {
   "cell_type": "markdown",
   "metadata": {},
   "source": [
    "13. Faça um programa que peça um valor monetário e aumente-o em\n",
    "15%. Seu programa deve imprimir a mensagem “O novo valor é\n",
    "R$[valor]”.\n"
   ]
  },
  {
   "cell_type": "code",
   "execution_count": 4,
   "metadata": {},
   "outputs": [
    {
     "name": "stdout",
     "output_type": "stream",
     "text": [
      "Digite o valor que deseja em aumentar em 15%: 10\n",
      "O novo valor é de R$11.50\n"
     ]
    }
   ],
   "source": [
    "valor = float(input('Digite o valor que deseja em aumentar em 15%: '))\n",
    "\n",
    "novo_valor = (1 + 0.15) * valor\n",
    "\n",
    "print(f'O novo valor é de R${novo_valor:.2f}')"
   ]
  },
  {
   "cell_type": "markdown",
   "metadata": {},
   "source": [
    "---"
   ]
  },
  {
   "cell_type": "markdown",
   "metadata": {},
   "source": [
    "\n",
    "14. Faça um programa que peça um valor monetário e diminua-o em 15%.\n",
    "Seu programa deve imprimir a mensagem “O novo valor é R$[valor]”.\n"
   ]
  },
  {
   "cell_type": "code",
   "execution_count": 6,
   "metadata": {},
   "outputs": [
    {
     "name": "stdout",
     "output_type": "stream",
     "text": [
      "Digite o valor que deseja em aumentar em 15%: 10\n",
      "O novo valor é de R$8.50\n"
     ]
    }
   ],
   "source": [
    "valor_atual = float(input('Digite o valor que deseja em aumentar em 15%: '))\n",
    "\n",
    "valor_diminuido = (1 - 0.15) * valor\n",
    "\n",
    "print(f'O novo valor é de R${valor_diminuido:.2f}')"
   ]
  },
  {
   "cell_type": "markdown",
   "metadata": {},
   "source": [
    "---"
   ]
  },
  {
   "cell_type": "markdown",
   "metadata": {},
   "source": [
    "\n",
    "15. Peça para o usuário digitar uma velocidade inicial (em m/s), uma posição inicial (em m) e um instante de tempo (em s) e imprima a posição de um projétil nesse instante de tempo. Dica: use a fórmula matemática:\n",
    "yt = y0 + v0*t + (1/2)*gt^2\n",
    "Onde, g é a aceleração da gravidade (-10m/s²), y(t) é a posição\n",
    "final, y(0) é a posição inicial, v(0) é a velocidade inicial e t é o\n",
    "instante de tempo.\n"
   ]
  },
  {
   "cell_type": "code",
   "execution_count": 9,
   "metadata": {},
   "outputs": [
    {
     "name": "stdout",
     "output_type": "stream",
     "text": [
      "Digite a velocidade inicial do projétil em m/s: 10\n",
      "Digite a posição inicial do projétil em m: 2\n",
      "Digite o instante de tempo que deseja saber a posição em s: 5\n",
      "-73.0\n"
     ]
    }
   ],
   "source": [
    "velocidade_inicial = float(input('Digite a velocidade inicial do projétil em m/s: '))\n",
    "posicao_inicial = float(input('Digite a posição inicial do projétil em m: '))\n",
    "instante = float(input('Digite o instante de tempo que deseja saber a posição em s: '))\n",
    "\n",
    "g = -10\n",
    "\n",
    "posicao = posicao_inicial + (velocidade_inicial * instante) + 0.5 * (g * (instante ** 2))\n",
    "\n",
    "print(posicao)\n"
   ]
  }
 ],
 "metadata": {
  "kernelspec": {
   "display_name": "Python 3",
   "language": "python",
   "name": "python3"
  },
  "language_info": {
   "codemirror_mode": {
    "name": "ipython",
    "version": 3
   },
   "file_extension": ".py",
   "mimetype": "text/x-python",
   "name": "python",
   "nbconvert_exporter": "python",
   "pygments_lexer": "ipython3",
   "version": "3.8.8"
  }
 },
 "nbformat": 4,
 "nbformat_minor": 4
}
