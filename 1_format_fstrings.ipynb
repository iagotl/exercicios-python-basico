{
 "cells": [
  {
   "cell_type": "code",
   "execution_count": null,
   "metadata": {},
   "outputs": [
    {
     "name": "stdout",
     "output_type": "stream",
     "text": [
      "O Iago tem 1.69m de altura e pesa 84kg. Seu IMC é de 29.41\n"
     ]
    }
   ],
   "source": [
    "# Fazendo o cálculo e arredondando com a função round\n",
    "nome = \"Iago\"\n",
    "altura = 1.69\n",
    "peso = 84\n",
    "\n",
    "imc = round(peso / altura ** 2, 2)\n",
    "\n",
    "print(f'O {nome} tem {altura}m de altura e pesa {peso}kg. Seu IMC é de {imc}')"
   ]
  },
  {
   "cell_type": "code",
   "execution_count": 4,
   "metadata": {},
   "outputs": [
    {
     "name": "stdout",
     "output_type": "stream",
     "text": [
      "O Iago tem 1.69m de altura e pesa 84kg. Seu IMC é de 29.41\n"
     ]
    }
   ],
   "source": [
    "# Fazendo o cálculo e arredondando com o python\n",
    "nome = \"Iago\"\n",
    "altura = 1.69\n",
    "peso = 84\n",
    "\n",
    "imc = peso / altura ** 2\n",
    "\n",
    "print(f'O {nome} tem {altura}m de altura e pesa {peso}kg. Seu IMC é de {imc:.2f}')"
   ]
  },
  {
   "cell_type": "code",
   "execution_count": 12,
   "metadata": {},
   "outputs": [
    {
     "name": "stdout",
     "output_type": "stream",
     "text": [
      "a = A b = B c = 1.10\n",
      "b = B a = A c = 1.10\n",
      "a = A b = B c = B\n"
     ]
    }
   ],
   "source": [
    "# Aprendendo a usar o método .format\n",
    "a = 'A'\n",
    "b = 'B'\n",
    "c = 1.1\n",
    "formato = 'a = {} b = {} c = {:.2f}'.format(a, b, c)\n",
    "\n",
    "formato_indices = 'b = {1} a = {0} c = {2:.2f}'.format(a, b, c)\n",
    "\n",
    "# Se um parâmetro é nomeado, então todos devem ser\n",
    "formato_parametro_nomeado = 'a = {nome1} b = {nome_2} c = {nome_2}'.format(nome1 = a, nome_2 = b, nome_3 = c) \n",
    "\n",
    "print(formato)\n",
    "print(formato_indices)\n",
    "print(formato_parametro_nomeado)"
   ]
  }
 ],
 "metadata": {
  "kernelspec": {
   "display_name": "Python 3 (ipykernel)",
   "language": "python",
   "name": "python3"
  },
  "language_info": {
   "codemirror_mode": {
    "name": "ipython",
    "version": 3
   },
   "file_extension": ".py",
   "mimetype": "text/x-python",
   "name": "python",
   "nbconvert_exporter": "python",
   "pygments_lexer": "ipython3",
   "version": "3.12.3"
  }
 },
 "nbformat": 4,
 "nbformat_minor": 2
}
