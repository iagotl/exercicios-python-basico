{
 "cells": [
  {
   "cell_type": "markdown",
   "metadata": {},
   "source": [
    "# Python (Otávio Miranda)"
   ]
  },
  {
   "cell_type": "markdown",
   "metadata": {},
   "source": [
    "- Controla o fluxo do nosso código, ou seja, dá um caminho mais apropriado para o programa dependendo do que o usuário digita"
   ]
  },
  {
   "cell_type": "code",
   "execution_count": null,
   "metadata": {},
   "outputs": [
    {
     "name": "stdout",
     "output_type": "stream",
     "text": [
      "🚀 Você entrou no sistema\n"
     ]
    }
   ],
   "source": [
    "# Para usar os emojis precisamos usar o código unicode daquele emoji (pegar nos sites)\n",
    "\n",
    "escolha_usuario = input('Você quer \"entrar\" ou \"sair\" do sistema? ')\n",
    "\n",
    "if escolha_usuario == 'entrar':\n",
    "    print('\\U0001F680 Você entrou no sistema')\n",
    "elif escolha_usuario == 'sair':\n",
    "    print('\\U00002705 Você saiu do sistema')\n",
    "else:\n",
    "    print('\\U0000274C Digite entrar ou sair')"
   ]
  },
  {
   "cell_type": "code",
   "execution_count": 8,
   "metadata": {},
   "outputs": [
    {
     "name": "stdout",
     "output_type": "stream",
     "text": [
      "Os valores são iguais\n"
     ]
    }
   ],
   "source": [
    "# Criar um programa para exibir o maior número primeiro que o segundo\n",
    "\n",
    "valor_1 = input(\"Digite um valor: \") \n",
    "valor_2 = input(\"Digite outro valor: \")\n",
    "\n",
    "v1_convertido = int(valor_1)\n",
    "v2_convertido = int(valor_2)\n",
    "\n",
    "if v1_convertido > v2_convertido:\n",
    "    print(f'{valor_1} é maior que {valor_2}')\n",
    "elif v1_convertido == v2_convertido:\n",
    "    print('Os valores são iguais')\n",
    "else:\n",
    "    print(f'{valor_2} é maior que {valor_1}')"
   ]
  },
  {
   "cell_type": "code",
   "execution_count": 3,
   "metadata": {},
   "outputs": [
    {
     "name": "stdout",
     "output_type": "stream",
     "text": [
      "Sair\n"
     ]
    }
   ],
   "source": [
    "# Aprendendo sobre o operador lógico AND (Significa e)\n",
    "\n",
    "# Operador de condição \"E\"\n",
    "# Todas as condições devem ser verdadeiras\n",
    "# O None é um valor falso no python\n",
    "\n",
    "entrada = input('[E]ntrar [S]air: ')\n",
    "senha_digitada = input('Digite a sua senha: ')\n",
    "\n",
    "senha_real = '123456'\n",
    "\n",
    "if entrada == 'E' and senha_digitada == senha_real:\n",
    "    print('Entrar')\n",
    "else:\n",
    "    print('Sair')"
   ]
  },
  {
   "cell_type": "code",
   "execution_count": null,
   "metadata": {},
   "outputs": [
    {
     "name": "stdout",
     "output_type": "stream",
     "text": [
      "True\n"
     ]
    }
   ],
   "source": [
    "print(True and True and True)"
   ]
  },
  {
   "cell_type": "code",
   "execution_count": null,
   "metadata": {},
   "outputs": [
    {
     "name": "stdout",
     "output_type": "stream",
     "text": [
      "False\n"
     ]
    }
   ],
   "source": [
    "# Importante deixar claro que o python faz uma avaliação de curto circuito, ou seja, se ele está com um and ele só avalia as condições que são verdadeira e para no caso de termos uma falsa\n",
    "print(True and False and True)"
   ]
  },
  {
   "cell_type": "code",
   "execution_count": null,
   "metadata": {},
   "outputs": [],
   "source": [
    "# O Zero é um false\n",
    "if 0 and 1:\n",
    "    print(True and 1)"
   ]
  },
  {
   "cell_type": "code",
   "execution_count": 9,
   "metadata": {},
   "outputs": [
    {
     "name": "stdout",
     "output_type": "stream",
     "text": [
      "False\n"
     ]
    }
   ],
   "source": [
    "if 1 and 1:\n",
    "    print(True and 1 and False)"
   ]
  },
  {
   "cell_type": "code",
   "execution_count": null,
   "metadata": {},
   "outputs": [],
   "source": [
    "# O None é um false\n",
    "if None:\n",
    "    print('Oi')"
   ]
  },
  {
   "cell_type": "code",
   "execution_count": 11,
   "metadata": {},
   "outputs": [
    {
     "name": "stdout",
     "output_type": "stream",
     "text": [
      "Entrar\n"
     ]
    }
   ],
   "source": [
    "# Aprendendo sobre o operador lógico OR\n",
    "\n",
    "# Se uma condição é verdadeira, então entramos na condição\n",
    "entrada = input('[E]ntrar [S]air: ')\n",
    "senha_digitada = input('Digite a sua senha: ')\n",
    "\n",
    "senha_real = '123456'\n",
    "\n",
    "if (entrada == 'E' or entrada == 'e') and senha_digitada == senha_real:\n",
    "    print('Entrar')\n",
    "else:\n",
    "    print('Sair')\n"
   ]
  },
  {
   "cell_type": "code",
   "execution_count": null,
   "metadata": {},
   "outputs": [
    {
     "name": "stdout",
     "output_type": "stream",
     "text": [
      "Sem senha\n"
     ]
    }
   ],
   "source": [
    "# Conseguimos colocar o or dentro da declaração da variável com input \n",
    "senha = input('Digite sua senha: ') or \"Sem senha\"\n",
    "print(senha)"
   ]
  },
  {
   "cell_type": "code",
   "execution_count": null,
   "metadata": {},
   "outputs": [
    {
     "name": "stdout",
     "output_type": "stream",
     "text": [
      "Você não digitou nada\n"
     ]
    }
   ],
   "source": [
    "# Aprendendo sobre o operador lógico NOT\n",
    "\n",
    "# Ele é utilizado para inverter expressões, ou seja, o que é true vira false e o que é false vira true\n",
    "\n",
    "senha = input('Senha: ')\n",
    "\n",
    "# Importante lembrar que a string vazia é um False\n",
    "if not senha == '123456':\n",
    "    print('Você não digitou nada')"
   ]
  },
  {
   "cell_type": "code",
   "execution_count": 13,
   "metadata": {},
   "outputs": [
    {
     "data": {
      "text/plain": [
       "False"
      ]
     },
     "execution_count": 13,
     "metadata": {},
     "output_type": "execute_result"
    }
   ],
   "source": [
    "bool('')"
   ]
  },
  {
   "cell_type": "code",
   "execution_count": 16,
   "metadata": {},
   "outputs": [
    {
     "name": "stdout",
     "output_type": "stream",
     "text": [
      "False\n",
      "True\n"
     ]
    }
   ],
   "source": [
    "print(not True)\n",
    "print(not False)"
   ]
  },
  {
   "cell_type": "code",
   "execution_count": 19,
   "metadata": {},
   "outputs": [
    {
     "name": "stdout",
     "output_type": "stream",
     "text": [
      "T e s e\n"
     ]
    }
   ],
   "source": [
    "# Aprendendo sobre o operador lógico IN e NOT IN\n",
    "# IN = Entre\n",
    "# NOT IN = Não entre\n",
    "\n",
    "# As strings são iteráveis, ou seja, navegamos item por item (Por índice)\n",
    "senha = 'Teste'\n",
    "print(senha[0], senha[1], senha[2], senha[-1])"
   ]
  },
  {
   "cell_type": "code",
   "execution_count": null,
   "metadata": {},
   "outputs": [
    {
     "name": "stdout",
     "output_type": "stream",
     "text": [
      "False\n"
     ]
    }
   ],
   "source": [
    "# Queremos checar se a está entre as letras da variável senha\n",
    "print('a' in senha)\n",
    "\n",
    "# a está entre as letrar de senha"
   ]
  },
  {
   "cell_type": "code",
   "execution_count": null,
   "metadata": {},
   "outputs": [
    {
     "name": "stdout",
     "output_type": "stream",
     "text": [
      "True\n"
     ]
    }
   ],
   "source": [
    "print('a' not in senha)\n",
    "\n",
    "# a não está entre as letrar de senha"
   ]
  },
  {
   "cell_type": "code",
   "execution_count": 24,
   "metadata": {},
   "outputs": [
    {
     "name": "stdout",
     "output_type": "stream",
     "text": [
      "iag está em iago\n"
     ]
    }
   ],
   "source": [
    "nome = input('Digite o seu nome: ')\n",
    "encontrar = input('Digite o que deseja encontrar')\n",
    "\n",
    "if encontrar in nome:\n",
    "    print(f'{encontrar} está em {nome}')\n",
    "else: \n",
    "    print(f'{encontrar} não está em {nome}')"
   ]
  },
  {
   "cell_type": "markdown",
   "metadata": {},
   "source": [
    "# 100 days of code (Seção 3)\n",
    "\n",
    "- O controle de fluxo nos ajuda a entender o caminho que um programa deve tomar, ou seja, faremos A ou B dependendo do que acontecer\n",
    "- Um exemplo do dia-a-dia que ilustra bem essa questão são as banheiras e o fato de elas nunca transbordarem. Temos um mecanismo que drena a banheira dependendo da altura da água. Se a altura da água é maior que 80cm, então drenamos a banheira, se não ela continua a encher! "
   ]
  },
  {
   "cell_type": "code",
   "execution_count": 29,
   "metadata": {},
   "outputs": [
    {
     "name": "stdout",
     "output_type": "stream",
     "text": [
      "Bem-vindo a montanha-russa!\n",
      "Você tem 1.69m de altura e pode andar na montanha-russa\n"
     ]
    }
   ],
   "source": [
    "print('Bem-vindo a montanha-russa!')\n",
    "altura = int(input('Digite a sua altura em cm: '))\n",
    "\n",
    "if altura >= 120:\n",
    "    print(f'Você tem {altura / 100}m de altura e pode andar na montanha-russa')\n",
    "else:\n",
    "    print('Você é baixinho demais, foi mal')"
   ]
  },
  {
   "cell_type": "code",
   "execution_count": 32,
   "metadata": {},
   "outputs": [
    {
     "name": "stdout",
     "output_type": "stream",
     "text": [
      "Bem-vindo ao verificador de pares e ímpares\n",
      "O número digitado foi: 2 e ele é PAR!\n"
     ]
    }
   ],
   "source": [
    "# Modulo Operator: Calcula o resto da divisão \n",
    "# 10 % 3 retorna 1\n",
    "\n",
    "print('Bem-vindo ao verificador de pares e ímpares')\n",
    "numero = int(input('Digite um número inteiro: '))\n",
    "\n",
    "if numero % 2 == 0:\n",
    "    print(f'O número digitado foi: {numero} e ele é PAR!')\n",
    "else:\n",
    "    print(f'O número digitado foi: {numero} e ele é ÍMPAR')\n"
   ]
  },
  {
   "cell_type": "code",
   "execution_count": null,
   "metadata": {},
   "outputs": [
    {
     "name": "stdout",
     "output_type": "stream",
     "text": [
      "Bem-vindo a montanha-russa!\n",
      "Você tem 1.69m de altura e pode andar na montanha-russa\n",
      "O Ingresso para adultos é R$12\n",
      "Vamos adicionar R$3 à sua entrada\n",
      "O valor final é de R$15\n"
     ]
    }
   ],
   "source": [
    "# Agora queremos observar CONDIÇÕES ANINHADAS e MÚLTIPLOS IF'S\n",
    "# Vamos replicar o programa da montanha russa mas adicionando a idade nas verificações\n",
    "print('Bem-vindo a montanha-russa!')\n",
    "altura = int(input('Digite a sua altura em cm: '))\n",
    "\n",
    "if altura >= 120:\n",
    "    idade = int(input('Digite a sua idade em anos: '))\n",
    "    print(f'Você tem {altura / 100}m de altura e pode andar na montanha-russa')\n",
    "    if idade <= 12:\n",
    "        print('O Ingresso para crianças é R$5')\n",
    "        valor_final = 5\n",
    "    elif idade <= 18:\n",
    "        print('O Ingresso para adolescentes é R$7')\n",
    "        valor_final = 7\n",
    "    elif idade >= 45 and idade <= 55:\n",
    "        valor_final = 0\n",
    "        print('Para você é de graça meu patrão!')\n",
    "    else:\n",
    "        print('O Ingresso para adultos é R$12')\n",
    "        valor_final = 12\n",
    "    \n",
    "    foto = input('Você deseja uma foto [Y] / [N]? ')\n",
    "\n",
    "    if foto == 'Y' or foto == 'y':\n",
    "        print('Vamos adicionar R$3 à sua entrada')\n",
    "        valor_final += 3\n",
    "        print(f'O valor final é de R${valor_final}')\n",
    "    else:\n",
    "        print('Sem valor adicional de foto!')\n",
    "        print(f'O valor final é de R${valor_final}')\n",
    "else:\n",
    "    print('Você é baixinho demais, vaza!')"
   ]
  },
  {
   "cell_type": "code",
   "execution_count": 15,
   "metadata": {},
   "outputs": [
    {
     "name": "stdout",
     "output_type": "stream",
     "text": [
      "Bem-vindo a pizzaria do Carlinhos!\n",
      "Bora ver seu pedido?\n",
      "\n",
      "Você escolheu o tamanho pequeno. O valor é de R$25 mangos\n",
      "A Itália chora nesse momento, mas beleza!\n",
      "Incrementamos 3 mangos na conta por conta do peperonni\n",
      "A entrada não corresponde ao esperado! Preste atenção nas opções por favor.\n",
      "O valor final é de R$28\n"
     ]
    }
   ],
   "source": [
    "# Desafio da seção 3: Programa de entrega de pizza\n",
    "# O programa deve calcular automaticamente o valor da conta para o usuário baseado em algumas condições\n",
    "\n",
    "# Variável 1: Devemos determinar o tamanho da pizza (Grande = R$25, Média = R$20 ou pequena = R$15)\n",
    "# Variável 2: Devemos verificar se deseja adicionar Peperoni na pizaa (Sim ou Não => +R$2 para a pequena; =R$3 para média ou grande)\n",
    "# Variável 3: Devemos perguntar se deseja queijo adicional (Sim ou Não => +R$1 independente do tamanho)\n",
    "\n",
    "print('Bem-vindo a pizzaria do Carlinhos!\\nBora ver seu pedido?')\n",
    "print()\n",
    "\n",
    "tamanho = int(input('Temos 3 tamanhos de pizza:\\n1.Pequena\\n2.Média\\n3.Grande\\nDigite o número do tamanho desejado:'))\n",
    "\n",
    "# Vamos começar a determinar os valores:\n",
    "  # Primeiro a verificar é o tamanho (Isso influencia no peperoni)\n",
    "if tamanho == 1:\n",
    "    print('Você escolheu o tamanho pequeno. O valor é de R$15 mangos')\n",
    "    preco = 15\n",
    "elif tamanho == 2:\n",
    "    print('Você escolheu o tamanho pequeno. O valor é de R$20 mangos')\n",
    "    preco = 20\n",
    "elif tamanho == 3:\n",
    "    print('Você escolheu o tamanho pequeno. O valor é de R$25 mangos')\n",
    "    preco = 25\n",
    "else:\n",
    "    print('Você digitou um tamanho de pizza inválido! Preste atenção nas opções por favor.')\n",
    "\n",
    "pepperoni = input('Temos a opção de adicionar pepperoni à sua pizza por mais R$2. Deseja esse adicional? [S] / [N]')\n",
    "\n",
    "if pepperoni == 's' or pepperoni == 'S':\n",
    "    print('A Itália chora nesse momento, mas beleza!')\n",
    "    if tamanho == 1:\n",
    "        preco += 2\n",
    "        print('Incrementamos 2 mangos na conta por conta do peperonni')\n",
    "    else:\n",
    "        preco += 3\n",
    "        print('Incrementamos 3 mangos na conta por conta do peperonni')\n",
    "elif pepperoni == 'n' or pepperoni == 'N':\n",
    "    print('Sem Pepperoni? Mama mia!! A Itália agradece!')\n",
    "else:\n",
    "    print('A entrada não corresponde ao esperado! Preste atenção nas opções por favor.')\n",
    "\n",
    "queijo_extra = input('Temos a opção de adicionar queijo à sua pizza por mais R$1. Deseja esse adicional? [S] / [N]')\n",
    "\n",
    "if queijo_extra == 's' or queijo_extra == 'S':\n",
    "    preco += 1\n",
    "    print('Adicionamos 1 mango ao preço final pelo queijo')\n",
    "elif pepperoni == 'n' or pepperoni == 'N':\n",
    "    print('Sem queijo extra? Você vai se arrepender!')\n",
    "else:\n",
    "    print('A entrada não corresponde ao esperado! Preste atenção nas opções por favor.')\n",
    "\n",
    "print(f'O valor final é de R${preco}')\n",
    "\n",
    "\n"
   ]
  },
  {
   "cell_type": "code",
   "execution_count": null,
   "metadata": {},
   "outputs": [
    {
     "name": "stdout",
     "output_type": "stream",
     "text": [
      "Bem-vindo à ilha do tesouro!\n",
      "Esse é um jogo de escolhas e dependendo do caminho que seguir encontra o tesouro ou perde o jogo!\n",
      "Que comecem os jogos!\n",
      "\n",
      "Parabéns! Você escolheu o caminho correto.\n",
      "Parabéns, você é um bunda mole! Mas o que importa é que não foi devorado pelos monstros do lago.\n",
      "Você chegou a uma abertura no espaço tempo e se transportou para um programa de auditório e o apresentador te dá a opção de escolher uma das 3 portas\n",
      "Parabéns, você encontrou o tesouro! Uma sacolinha com 100 moedas de R$0,05\n"
     ]
    }
   ],
   "source": [
    "# Projeto final (Seção 3)\n",
    "\n",
    "# Treasure Island\n",
    "# É um jogo de escolhas no qual baseado na decisão do usuário ele vence ou perde o jogo\n",
    "# Deixei o fluxograma para explicar o funcionamento do programa\n",
    "\n",
    "# Introducao para o usuário\n",
    "print('Bem-vindo à ilha do tesouro!')\n",
    "print('Esse é um jogo de escolhas e dependendo do caminho que seguir encontra o tesouro ou perde o jogo!')\n",
    "print('Que comecem os jogos!')\n",
    "print()\n",
    "\n",
    "# Vamos começar as escolhas do usuário\n",
    "# A resolução desse desafio depende de if's aninhados, pois precisamos dar um game over dependendo da reposta (Jogo deve acabar, ou seja, não devemos fazer mais perguntas)\n",
    "escolha1 = input('Você chegou a uma bifurcação no meio da floresta! Deseja ir para a [D]ireita ou [E]squerda? ')\n",
    "\n",
    "if (escolha1 == 'e' or escolha1 == 'E'):\n",
    "    print('Parabéns! Você escolheu o caminho correto.')\n",
    "    escolha2 = input('Agora você se deparou com um lago! Você deseja [N]adar ou [E]sperar por um barco? ')\n",
    "    if escolha2 == 'n' or escolha2 == 'N':\n",
    "        print('Game Over! O monstro do lago ness te devorou')\n",
    "    elif escolha2 == 'e' or escolha2 == 'E':\n",
    "        print('Parabéns, você é um bunda mole! Mas o que importa é que não foi devorado pelos monstros do lago.')\n",
    "        print('Você chegou a uma abertura no espaço tempo e se transportou para um programa de auditório e o apresentador te dá a opção de escolher uma das 3 portas')\n",
    "        escolha3 = input('Qual porta você deseja abrir? [V]ermelha, [A]marela ou [R]oxa? ')\n",
    "        if escolha3 == 'v' or escolha3 == 'V':\n",
    "            print('Game Over! Você pegou fogo')\n",
    "        elif escolha3 == 'a' or escolha3 == 'A':\n",
    "            print('Game Over! Você caiu em um oceano e foi comido por um megalodon')\n",
    "        elif escolha3 == 'r' or escolha3 == 'R':\n",
    "            print('Parabéns, você encontrou o tesouro! Uma sacolinha com 100 moedas de R$0,05')\n",
    "        else:\n",
    "            print('Game Over! Você não foi capaz de escolhar uma opção corretamente.')\n",
    "    else:\n",
    "        print('Game Over! Você não foi capaz de escolhar uma opção corretamente.')\n",
    "elif (escolha1 == 'd' or escolha1 == 'D'):\n",
    "    print('Game Over! Um tomate assassino te devorou!')\n",
    "else:\n",
    "    print('Game Over! Você não foi capaz de escolhar uma opção corretamente.')\n"
   ]
  },
  {
   "cell_type": "code",
   "execution_count": null,
   "metadata": {},
   "outputs": [],
   "source": []
  }
 ],
 "metadata": {
  "kernelspec": {
   "display_name": "Python 3 (ipykernel)",
   "language": "python",
   "name": "python3"
  }
 },
 "nbformat": 4,
 "nbformat_minor": 2
}
