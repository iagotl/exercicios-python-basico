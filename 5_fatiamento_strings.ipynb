{
 "cells": [
  {
   "cell_type": "markdown",
   "metadata": {
    "vscode": {
     "languageId": "plaintext"
    }
   },
   "source": [
    "### Fatiamento de strings\n",
    "\n",
    "- As strings são iteráveis, então podemos acessar seus elementos por índices\n",
    "- Para o fatiamento precisamos colocar o : dentro de []\n",
    "- Queremos fazer um fatiamento das strings (Pegamos fatias da string)\n",
    "- Importante: No fatiamento, o índice final não é incluido!\n",
    "- Função len => Conta caracteres! (É o tamanho da string)"
   ]
  },
  {
   "cell_type": "code",
   "execution_count": 2,
   "metadata": {},
   "outputs": [],
   "source": [
    "variavel = 'Olá Mundo'"
   ]
  },
  {
   "cell_type": "code",
   "execution_count": null,
   "metadata": {},
   "outputs": [
    {
     "name": "stdout",
     "output_type": "stream",
     "text": [
      "Mundo\n"
     ]
    }
   ],
   "source": [
    "# Se não colocar nada após : pega tudo até o final\n",
    "print(variavel[4:])"
   ]
  },
  {
   "cell_type": "code",
   "execution_count": 7,
   "metadata": {},
   "outputs": [
    {
     "name": "stdout",
     "output_type": "stream",
     "text": [
      "Olá \n"
     ]
    }
   ],
   "source": [
    "print(variavel[:4])"
   ]
  },
  {
   "cell_type": "code",
   "execution_count": 5,
   "metadata": {},
   "outputs": [
    {
     "name": "stdout",
     "output_type": "stream",
     "text": [
      "Mun\n",
      "Mund\n",
      "Mundo\n"
     ]
    }
   ],
   "source": [
    "# Importante: No fatiamento, o índice final não é incluido!\n",
    "print(variavel[4:7])\n",
    "print(variavel[4:8])\n",
    "print(variavel[4:9])"
   ]
  },
  {
   "cell_type": "code",
   "execution_count": 8,
   "metadata": {},
   "outputs": [
    {
     "name": "stdout",
     "output_type": "stream",
     "text": [
      "9\n"
     ]
    }
   ],
   "source": [
    "print(len(variavel))"
   ]
  },
  {
   "cell_type": "code",
   "execution_count": 11,
   "metadata": {},
   "outputs": [
    {
     "name": "stdout",
     "output_type": "stream",
     "text": [
      "OáMno\n"
     ]
    }
   ],
   "source": [
    "# O 2 é o passo, ou seja, ele pega do primeiro ao último elemento de 2 em 2\n",
    "print(variavel[0:9:2])"
   ]
  },
  {
   "cell_type": "code",
   "execution_count": 13,
   "metadata": {},
   "outputs": [
    {
     "name": "stdout",
     "output_type": "stream",
     "text": [
      "Olá Mundo\n"
     ]
    }
   ],
   "source": [
    "# Invertendo a string\n",
    "print(variavel[::])"
   ]
  },
  {
   "cell_type": "code",
   "execution_count": 12,
   "metadata": {},
   "outputs": [
    {
     "name": "stdout",
     "output_type": "stream",
     "text": [
      "odnuM álO\n"
     ]
    }
   ],
   "source": [
    "# Invertendo a string\n",
    "print(variavel[::-1])"
   ]
  },
  {
   "cell_type": "markdown",
   "metadata": {},
   "source": [
    "\"\"\"\n",
    "Exercício\n",
    "Peça ao usuário para digitar seu nome\n",
    "Peça ao usuário para digitar sua idade\n",
    "Se nome e idade forem digitados:\n",
    "    Exiba:\n",
    "        Seu nome é {nome}\n",
    "        Seu nome invertido é {nome invertido}\n",
    "        Seu nome contém (ou não) espaços\n",
    "        Seu nome tem {n} letras\n",
    "        A primeira letra do seu nome é {letra}\n",
    "        A última letra do seu nome é {letra}\n",
    "Se nada for digitado em nome ou idade: \n",
    "    exiba \"Desculpe, você deixou campos vazios.\"\n",
    "\"\"\""
   ]
  },
  {
   "cell_type": "code",
   "execution_count": null,
   "metadata": {},
   "outputs": [
    {
     "name": "stdout",
     "output_type": "stream",
     "text": [
      "Seu nome é iago\n",
      "Seu nome invertido é ogai\n",
      "Seu nome tem 4 caracteres\n",
      "None\n",
      "A primeira letra do seu nome é i\n",
      "A última letra do seu nome é o\n"
     ]
    }
   ],
   "source": [
    "nome = input('Digite o seu nome: ')\n",
    "idade = input('Digite sua idade: ')\n",
    "\n",
    "if nome != '' and idade != '':\n",
    "    print(f'Seu nome é {nome}')\n",
    "    print(f'Seu nome invertido é {nome[::-1]}')\n",
    "    \n",
    "    if ' ' in nome:\n",
    "        print('Você contém espaços no seu nome!')\n",
    "    else:\n",
    "        print('Você não contém espaços no seu nome')\n",
    "\n",
    "    print(print(f'Seu nome tem {len(nome)} caracteres'))\n",
    "    print(f'A primeira letra do seu nome é {nome[0]}')\n",
    "    print(f'A última letra do seu nome é {nome[-1]}')\n",
    "else:\n",
    "    print('Desculpe, você deixou campos vazios')"
   ]
  },
  {
   "cell_type": "code",
   "execution_count": null,
   "metadata": {},
   "outputs": [],
   "source": []
  }
 ],
 "metadata": {
  "kernelspec": {
   "display_name": "Python 3 (ipykernel)",
   "language": "python",
   "name": "python3"
  },
  "language_info": {
   "codemirror_mode": {
    "name": "ipython",
    "version": 3
   },
   "file_extension": ".py",
   "mimetype": "text/x-python",
   "name": "python",
   "nbconvert_exporter": "python",
   "pygments_lexer": "ipython3",
   "version": "3.12.3"
  }
 },
 "nbformat": 4,
 "nbformat_minor": 2
}
